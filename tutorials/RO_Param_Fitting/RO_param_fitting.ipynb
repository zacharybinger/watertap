{
 "cells": [
  {
   "cell_type": "markdown",
   "metadata": {},
   "source": [
    "# WaterTAP Workshop 2024: Reverse Osmosis Parameter Fitting Demo"
   ]
  },
  {
   "cell_type": "markdown",
   "metadata": {},
   "source": [
    "### Today's demonstration will show how to use WaterTAP to determine membrane properties from experimental data and spec sheets.\n",
    "* #### Part 1: Basic demonstration of Degrees of Freedom (DOF) and solving for known/assumed variables\n",
    "* #### Part 2: Estimate membrane parameters from spec sheet data\n",
    "* #### Part 3: Estimate membrane parameters in more complex systems"
   ]
  },
  {
   "cell_type": "markdown",
   "metadata": {},
   "source": [
    "## Part 0: Import necessary libraries"
   ]
  },
  {
   "cell_type": "code",
   "execution_count": null,
   "metadata": {},
   "outputs": [],
   "source": [
    "from pyomo.environ import (\n",
    "    check_optimal_termination,\n",
    "    ConcreteModel,\n",
    "    Constraint,\n",
    "    value,\n",
    "    Var,\n",
    "    NonNegativeReals,\n",
    "    assert_optimal_termination,\n",
    "    units as pyunits,\n",
    ")\n",
    "from idaes.core import FlowsheetBlock\n",
    "from watertap.property_models.NaCl_prop_pack import NaClParameterBlock\n",
    "from idaes.core.util.scaling import calculate_scaling_factors, set_scaling_factor\n",
    "from watertap.unit_models.reverse_osmosis_1D import (ReverseOsmosis1D, ConcentrationPolarizationType, \n",
    "                                                     MassTransferCoefficient, PressureChangeType)\n",
    "from watertap.unit_models.reverse_osmosis_0D import (ReverseOsmosis0D,\n",
    "        ConcentrationPolarizationType, MassTransferCoefficient)\n",
    "from watertap.core.util.model_diagnostics.infeasible import *\n",
    "from watertap.core.util.initialization import *\n",
    "from idaes.core.util.model_statistics import degrees_of_freedom\n",
    "from watertap.core.solvers import get_solver"
   ]
  },
  {
   "cell_type": "markdown",
   "metadata": {},
   "source": [
    "## Part 1: Basic demonstration of Degrees of Freedom (DOF) and solving for known/assumed variables\n",
    "* Create a simple RO unit model\n",
    "* Define some assumed operating conditions and membrane properties\n",
    "* Unfix membrane properties and fix performance variables (permeate flow rate, permeate salinity, pressure loss)\n",
    "\n",
    "<p style=\"text-align: center\"><img src=\"assets/RO_Stage.png\" width=\"50%\">"
   ]
  },
  {
   "cell_type": "markdown",
   "metadata": {},
   "source": [
    "#### Start building the RO model\n",
    "#### Define ConcreteModel, FlowsheetBlock, and Property Package"
   ]
  },
  {
   "cell_type": "code",
   "execution_count": null,
   "metadata": {},
   "outputs": [],
   "source": [
    "m = ConcreteModel()\n",
    "m.fs = FlowsheetBlock(dynamic=False)\n",
    "m.fs.properties = NaClParameterBlock()"
   ]
  },
  {
   "cell_type": "markdown",
   "metadata": {},
   "source": [
    "#### Define the RO unit model"
   ]
  },
  {
   "cell_type": "code",
   "execution_count": null,
   "metadata": {},
   "outputs": [],
   "source": [
    "m.fs.RO = ReverseOsmosis0D(\n",
    "    property_package=m.fs.properties,\n",
    "    has_pressure_change=True,\n",
    "    pressure_change_type=PressureChangeType.calculated,\n",
    "    mass_transfer_coefficient=MassTransferCoefficient.calculated,\n",
    "    concentration_polarization_type=ConcentrationPolarizationType.calculated,\n",
    "    has_full_reporting = True,\n",
    "    )"
   ]
  },
  {
   "cell_type": "markdown",
   "metadata": {},
   "source": [
    "## Degrees of Freedom\n",
    "\n",
    "#### 4-DOF: Inlet feed state variables (i.e. temperature, pressure, component flowrates)\n",
    "* Temperature\n",
    "* Pressure\n",
    "* H2O Mass Flow Rate\n",
    "* NaCl Mass Flow Rate\n",
    "\n",
    "#### 4-DOF: The RO model has at least 4 degrees of freedom that should be fixed for the unit to be fully specified.\n",
    "* membrane water permeability, A\n",
    "* membrane salt permeability, B\n",
    "* permeate pressure\n",
    "* membrane area\n",
    "\n",
    "#### 3-DOF: If configuring the RO unit to calculate concentration polarization effects, mass transfer coefficient, and pressure drop, 3 additional degrees of freedom are required\n",
    "* feed-spacer porosity\n",
    "* feed-channel height\n",
    "* membrane length or membrane width or inlet Reynolds number"
   ]
  },
  {
   "cell_type": "code",
   "execution_count": null,
   "metadata": {},
   "outputs": [],
   "source": [
    "print('Degrees of Freedom:', degrees_of_freedom(m.fs.RO))"
   ]
  },
  {
   "cell_type": "markdown",
   "metadata": {},
   "source": [
    "<p style=\"text-align: center\"><img src=\"assets/Linear_Algebra.png\" height=\"480\">\n",
    "<p style=\"text-align: center\"><img src=\"assets/Flux_Eqn_2.png\" width=\"80%\">\n",
    "<p style=\"text-align: center\"><img src=\"assets/code_screenshot.png\" height=\"480\">"
   ]
  },
  {
   "cell_type": "markdown",
   "metadata": {},
   "source": [
    "## Specify values for system variables"
   ]
  },
  {
   "cell_type": "code",
   "execution_count": null,
   "metadata": {},
   "outputs": [],
   "source": [
    "# fix the 4 inlet state variables\n",
    "m.fs.RO.inlet.flow_mass_phase_comp[0, 'Liq', 'NaCl'].fix(0.035)     # feed mass flowrate of TDS (kg/s)\n",
    "m.fs.RO.inlet.flow_mass_phase_comp[0, 'Liq', 'H2O'].fix(0.965)      # feed mass flowrate of water (kg/s)\n",
    "m.fs.RO.inlet.pressure[0].fix(50E5)                                 # feed pressure (Pa)\n",
    "m.fs.RO.inlet.temperature[0].fix(298)                               # feed temperature (K)\n",
    "\n",
    "# fix 2 membrane properties\n",
    "m.fs.RO.A_comp.fix(4.2e-12)                                         # membrane water permeability coeff (m/Pa/s)\n",
    "m.fs.RO.B_comp.fix(3.5e-8)                                          # membrane salt permeability coeff (m/s)\n",
    "\n",
    "# fix 4 module specficiations\n",
    "m.fs.RO.area.fix(50)                                                # membrane stage area (m^2)\n",
    "m.fs.RO.width.fix(5)                                                # membrane stage width (m)\n",
    "m.fs.RO.feed_side.channel_height.fix(1E-3)                          # channel height in membrane stage (m)\n",
    "m.fs.RO.feed_side.spacer_porosity.fix(0.97)                         # spacer porosity in membrane stage (-)\n",
    "\n",
    "# 1 outlet state variable\n",
    "m.fs.RO.permeate.pressure[0].fix(101325)                            # permeate pressure (Pa)"
   ]
  },
  {
   "cell_type": "code",
   "execution_count": null,
   "metadata": {},
   "outputs": [],
   "source": [
    "print('Degrees of Freedom:', degrees_of_freedom(m.fs.RO))"
   ]
  },
  {
   "cell_type": "markdown",
   "metadata": {},
   "source": [
    "## Scale all variables"
   ]
  },
  {
   "cell_type": "code",
   "execution_count": null,
   "metadata": {},
   "outputs": [],
   "source": [
    "# Set scaling factors for component mass flowrates.\n",
    "m.fs.properties.set_default_scaling('flow_mass_phase_comp', 1, index=('Liq', 'H2O'))\n",
    "m.fs.properties.set_default_scaling('flow_mass_phase_comp', 1e2, index=('Liq', 'NaCl'))\n",
    "\n",
    "# Set scaling factor for membrane area.\n",
    "set_scaling_factor(m.fs.RO.area, 1e-2)\n",
    "\n",
    "# Calculate scaling factors for all other variables.\n",
    "calculate_scaling_factors(m)"
   ]
  },
  {
   "cell_type": "markdown",
   "metadata": {},
   "source": [
    "## Initialize the model"
   ]
  },
  {
   "cell_type": "code",
   "execution_count": null,
   "metadata": {},
   "outputs": [],
   "source": [
    "m.fs.RO.initialize()"
   ]
  },
  {
   "cell_type": "markdown",
   "metadata": {},
   "source": [
    "## Setup a solver and run a simulation"
   ]
  },
  {
   "cell_type": "code",
   "execution_count": null,
   "metadata": {},
   "outputs": [],
   "source": [
    "# Solve the RO Unit\n",
    "solver = get_solver()\n",
    "simulation_results = solver.solve(m)\n",
    "assert_optimal_termination(simulation_results)"
   ]
  },
  {
   "cell_type": "code",
   "execution_count": null,
   "metadata": {},
   "outputs": [],
   "source": [
    "m.fs.RO.report()"
   ]
  },
  {
   "cell_type": "markdown",
   "metadata": {},
   "source": [
    "## Now that we have a model that will initialize and solve, let's start exploring the DOF"
   ]
  },
  {
   "cell_type": "code",
   "execution_count": null,
   "metadata": {},
   "outputs": [],
   "source": [
    "# We can start by unfixing the water permeability coefficient\n",
    "m.fs.RO.A_comp.unfix()\n",
    "print('Degrees of Freedom:', degrees_of_freedom(m.fs.RO))"
   ]
  },
  {
   "cell_type": "code",
   "execution_count": null,
   "metadata": {},
   "outputs": [],
   "source": [
    "# And then we can define a fixed value for the permeate flowrate\n",
    "m.fs.RO.mixed_permeate[0.0].flow_mass_phase_comp['Liq', 'H2O'].fix(0.4)\n",
    "print('Degrees of Freedom:', degrees_of_freedom(m.fs.RO))"
   ]
  },
  {
   "cell_type": "code",
   "execution_count": null,
   "metadata": {},
   "outputs": [],
   "source": [
    "# Initialize and solve the model given the new fixed value\n",
    "m.fs.RO.initialize()\n",
    "solver = get_solver()\n",
    "simulation_results = solver.solve(m)\n",
    "assert_optimal_termination(simulation_results)"
   ]
  },
  {
   "cell_type": "code",
   "execution_count": null,
   "metadata": {},
   "outputs": [],
   "source": [
    "m.fs.RO.report()\n",
    "m.fs.RO.A_comp.display()"
   ]
  },
  {
   "cell_type": "markdown",
   "metadata": {},
   "source": [
    "#### We can see that the water permeability (A_comp) changed from the previous assumed value of 4.2E-12 to achieve the new permeate flow rate"
   ]
  },
  {
   "cell_type": "code",
   "execution_count": null,
   "metadata": {},
   "outputs": [],
   "source": [
    "# Similarly, we can also unfix the water permeate flowrate and fix the recovery to 50%\n",
    "m.fs.RO.mixed_permeate[0.0].flow_mass_phase_comp['Liq', 'H2O'].unfix()\n",
    "m.fs.RO.recovery_vol_phase[0.0,'Liq'].fix(0.5)\n",
    "\n",
    "print('Degrees of Freedom:', degrees_of_freedom(m.fs.RO))"
   ]
  },
  {
   "cell_type": "code",
   "execution_count": null,
   "metadata": {},
   "outputs": [],
   "source": [
    "solver = get_solver()\n",
    "simulation_results = solver.solve(m)\n",
    "assert_optimal_termination(simulation_results)"
   ]
  },
  {
   "cell_type": "code",
   "execution_count": null,
   "metadata": {},
   "outputs": [],
   "source": [
    "m.fs.RO.report()\n",
    "m.fs.RO.A_comp.display()"
   ]
  },
  {
   "cell_type": "markdown",
   "metadata": {},
   "source": [
    "#### We can see that the A_comp value is adjusted to meet the new recovery\n",
    "\n",
    "\n",
    "\n",
    "####\n"
   ]
  },
  {
   "cell_type": "markdown",
   "metadata": {},
   "source": [
    "## Part 2: Estimating membrane properties given a RO spec sheet\n",
    "* Identify spec sheet data required to fit membrane properties\n",
    "* Setup RO unit model to reflect spec sheet system"
   ]
  },
  {
   "cell_type": "markdown",
   "metadata": {},
   "source": [
    "<p style=\"text-align: center\"><img src=\"assets/BW30.png\" height=\"480\">"
   ]
  },
  {
   "cell_type": "code",
   "execution_count": null,
   "metadata": {},
   "outputs": [],
   "source": [
    "permeate_flow = (48 * pyunits.m**3/pyunits.day) * (997.0 * pyunits.kg/pyunits.m**3) # Volumetric flowrate * density to get mass flowrate\n",
    "recovery = 0.15\n",
    "feed_flow = permeate_flow / recovery\n",
    "feed_conc = 2000 * pyunits.mg/pyunits.kg"
   ]
  },
  {
   "cell_type": "code",
   "execution_count": null,
   "metadata": {},
   "outputs": [],
   "source": [
    "m = ConcreteModel()\n",
    "m.fs = FlowsheetBlock(dynamic=False)\n",
    "m.fs.properties = NaClParameterBlock()\n",
    "\n",
    "m.fs.RO = ReverseOsmosis1D(\n",
    "        property_package=m.fs.properties,\n",
    "        has_pressure_change=True,\n",
    "        pressure_change_type=PressureChangeType.calculated,\n",
    "        mass_transfer_coefficient=MassTransferCoefficient.calculated,\n",
    "        concentration_polarization_type=ConcentrationPolarizationType.calculated,\n",
    "        transformation_scheme=\"BACKWARD\",\n",
    "        transformation_method=\"dae.finite_difference\",\n",
    "        finite_elements=10,\n",
    "        has_full_reporting = True,\n",
    "        )"
   ]
  },
  {
   "cell_type": "code",
   "execution_count": null,
   "metadata": {},
   "outputs": [],
   "source": [
    "print('Degrees of Freedom:', degrees_of_freedom(m.fs.RO))"
   ]
  },
  {
   "cell_type": "markdown",
   "metadata": {},
   "source": [
    "## Specify values for system variables"
   ]
  },
  {
   "cell_type": "code",
   "execution_count": null,
   "metadata": {},
   "outputs": [],
   "source": [
    "m.fs.RO.inlet.flow_mass_phase_comp[0, 'Liq', 'NaCl'].fix(feed_flow*feed_conc)\n",
    "m.fs.RO.inlet.flow_mass_phase_comp[0, 'Liq', 'H2O'].fix(feed_flow)\n",
    "m.fs.RO.inlet.pressure[0].fix(15.5 * pyunits.bar) \n",
    "m.fs.RO.inlet.temperature[0].fix(298.15)\n",
    "\n",
    "m.fs.RO.area.fix(41)\n",
    "m.fs.RO.A_comp.fix(4.2e-12)\n",
    "m.fs.RO.B_comp.fix(3.5e-8)\n",
    "\n",
    "m.fs.RO.permeate.pressure[0].fix(101325)\n",
    "m.fs.RO.feed_side.channel_height.fix(1e-3)\n",
    "m.fs.RO.feed_side.spacer_porosity.fix(0.95)     \n",
    "m.fs.RO.length.fix(1.016)\n",
    "\n",
    "print(\"DOF = \", degrees_of_freedom(m))\n",
    "print(\"RO DOF = \", degrees_of_freedom(m.fs.RO))\n",
    "assert_no_degrees_of_freedom(m)"
   ]
  },
  {
   "cell_type": "markdown",
   "metadata": {},
   "source": [
    "## Scale all variables."
   ]
  },
  {
   "cell_type": "code",
   "execution_count": null,
   "metadata": {},
   "outputs": [],
   "source": [
    "set_scaling_factor(m.fs.RO.area, 1e-2)\n",
    "set_scaling_factor(m.fs.RO.feed_side.area, 1e-2)\n",
    "set_scaling_factor(m.fs.RO.width, 1e-2)\n",
    "\n",
    "m.fs.properties.set_default_scaling(\"flow_mass_phase_comp\", 1, index=(\"Liq\", \"H2O\"))\n",
    "m.fs.properties.set_default_scaling(\"flow_mass_phase_comp\", 1e2, index=(\"Liq\", \"NaCl\"))\n",
    "\n",
    "calculate_scaling_factors(m) "
   ]
  },
  {
   "cell_type": "markdown",
   "metadata": {},
   "source": [
    "## Note: \n",
    "This salinity given in the spec sheet is low (2g/L). Some of the variables in the NaCl property model are scaled and constrained to limits more relevant to seawater concentrations. Sometimes adjusting the bounds on these variables is required so solve in these different conditions"
   ]
  },
  {
   "cell_type": "code",
   "execution_count": null,
   "metadata": {},
   "outputs": [],
   "source": [
    "# Release constraints related to low concentrations\n",
    "for item in [m.fs.RO.permeate_side, m.fs.RO.feed_side.properties_interface]:\n",
    "    for idx, param in item.items():\n",
    "        if idx[1] > 0:\n",
    "            param.molality_phase_comp[\"Liq\", \"NaCl\"].setlb(1e-5)\n",
    "            param.pressure_osm_phase[\"Liq\"].setlb(100)"
   ]
  },
  {
   "cell_type": "code",
   "execution_count": null,
   "metadata": {},
   "outputs": [],
   "source": [
    "def solve(m, raise_on_failure=True):\n",
    "    # ---solving---\n",
    "    solver = get_solver()\n",
    "\n",
    "    print(\"\\n--------- SOLVING ---------\\n\")\n",
    "    results = solver.solve(m)\n",
    "\n",
    "    if check_optimal_termination(results):\n",
    "        print(\"\\n--------- OPTIMAL SOLVE!!! ---------\\n\")\n",
    "\n",
    "        print(f'{\"Water Perm\":<20s}{value(pyunits.convert(m.fs.RO.A_comp[0,\"H2O\"], to_units=pyunits.L * pyunits.m**-2 * pyunits.bar **-1 * pyunits.hr ** -1)):<10.3f}{str(pyunits.get_units(pyunits.convert(m.fs.RO.A_comp[0,\"H2O\"], to_units=pyunits.L * pyunits.m**-2 * pyunits.bar **-1 * pyunits.hr ** -1))):<10s}')\n",
    "        print(f'{\"Salt Perm\":<20s}{value(pyunits.convert(m.fs.RO.B_comp[0,\"NaCl\"], to_units=pyunits.L * pyunits.m**-2 * pyunits.hr ** -1)):<10.3f}{str(pyunits.get_units(pyunits.convert(m.fs.RO.B_comp[0,\"NaCl\"], to_units=pyunits.L * pyunits.m**-2 * pyunits.hr ** -1))):<10s}')\n",
    "        print(f'{\"Porosity\":<20s}{value(m.fs.RO.feed_side.spacer_porosity):<10.3f}{str(pyunits.get_units(m.fs.RO.feed_side.spacer_porosity)):<10s}')\n",
    "        print('\\n')\n",
    "\n",
    "        return results\n",
    "    assert False"
   ]
  },
  {
   "cell_type": "code",
   "execution_count": null,
   "metadata": {},
   "outputs": [],
   "source": [
    "m.fs.RO.initialize()\n",
    "results = solve(m)"
   ]
  },
  {
   "cell_type": "markdown",
   "metadata": {},
   "source": [
    "#### Solve for A"
   ]
  },
  {
   "cell_type": "code",
   "execution_count": null,
   "metadata": {},
   "outputs": [],
   "source": [
    "# Unfix A variable\n",
    "m.fs.RO.A_comp.unfix()\n",
    "\n",
    "# Fix the permeate flow\n",
    "m.fs.RO.mixed_permeate[0.0].flow_mass_phase_comp['Liq', 'H2O'].fix(permeate_flow)\n",
    "\n",
    "print(\"DOF = \", degrees_of_freedom(m))"
   ]
  },
  {
   "cell_type": "code",
   "execution_count": null,
   "metadata": {},
   "outputs": [],
   "source": [
    "results = solve(m)"
   ]
  },
  {
   "cell_type": "code",
   "execution_count": null,
   "metadata": {},
   "outputs": [],
   "source": []
  },
  {
   "cell_type": "markdown",
   "metadata": {},
   "source": [
    "#### Solve for B"
   ]
  },
  {
   "cell_type": "code",
   "execution_count": null,
   "metadata": {},
   "outputs": [],
   "source": [
    "# Unfix B variable\n",
    "m.fs.RO.B_comp.unfix()\n",
    "\n",
    "# Fix the salt rejection\n",
    "m.fs.RO.rejection_phase_comp[0, \"Liq\", \"NaCl\"].fix(0.997)\n",
    "\n",
    "print(\"DOF = \", degrees_of_freedom(m))"
   ]
  },
  {
   "cell_type": "code",
   "execution_count": null,
   "metadata": {},
   "outputs": [],
   "source": [
    "results = solve(m, raise_on_failure=True)"
   ]
  },
  {
   "cell_type": "markdown",
   "metadata": {},
   "source": [
    "## Solve for Pressure Loss and Spacer Porosity"
   ]
  },
  {
   "cell_type": "markdown",
   "metadata": {},
   "source": [
    "<p style=\"text-align: center\"><img src=\"assets/BW30_2.png\" width=\"80%\">"
   ]
  },
  {
   "cell_type": "code",
   "execution_count": null,
   "metadata": {},
   "outputs": [],
   "source": [
    "feed_flow = (19 * pyunits.m**3/pyunits.hr) * (997.0 * pyunits.kg/pyunits.m**3) # Volumetric flowrate * density to get mass flowrate\n",
    "pressure_loss = -1 * pyunits.bar"
   ]
  },
  {
   "cell_type": "markdown",
   "metadata": {},
   "source": [
    "## Unfix the performance variables (permeate production and concentration) and fix the solved A & B parameters"
   ]
  },
  {
   "cell_type": "code",
   "execution_count": null,
   "metadata": {},
   "outputs": [],
   "source": [
    "# Unfix the permeate flow rate and concentration\n",
    "m.fs.RO.mixed_permeate[0.0].flow_mass_phase_comp['Liq', 'H2O'].unfix()\n",
    "m.fs.RO.rejection_phase_comp[0, \"Liq\", \"NaCl\"].unfix()\n",
    "\n",
    "# Fix the new A & B values. This will fix them at the solved values from the previous steps\n",
    "m.fs.RO.A_comp.fix()\n",
    "m.fs.RO.B_comp.fix()"
   ]
  },
  {
   "cell_type": "markdown",
   "metadata": {},
   "source": [
    "## Now fix the new feed flow rate and pressure loss"
   ]
  },
  {
   "cell_type": "code",
   "execution_count": null,
   "metadata": {},
   "outputs": [],
   "source": [
    "# Fix the new flow rate\n",
    "m.fs.RO.inlet.flow_mass_phase_comp[0, 'Liq', 'H2O'].fix(feed_flow)\n",
    "# Fix the pressure drop\n",
    "m.fs.RO.deltaP.fix(pressure_loss)\n",
    "\n",
    "print('\\n')\n",
    "print(\"DOF = \", degrees_of_freedom(m))"
   ]
  },
  {
   "cell_type": "markdown",
   "metadata": {},
   "source": [
    "## We have too few degrees of Freedom. Unfix the spacer porosity variable"
   ]
  },
  {
   "cell_type": "code",
   "execution_count": null,
   "metadata": {},
   "outputs": [],
   "source": [
    "# Unfix the spacer porosity\n",
    "m.fs.RO.feed_side.spacer_porosity.unfix()\n",
    "\n",
    "print('\\n')\n",
    "print(\"DOF = \", degrees_of_freedom(m))"
   ]
  },
  {
   "cell_type": "code",
   "execution_count": null,
   "metadata": {},
   "outputs": [],
   "source": [
    "results = solve(m)"
   ]
  },
  {
   "cell_type": "markdown",
   "metadata": {},
   "source": [
    "### We could then repeat these steps to get a more accurate prediction for the membrane parameters if desired\n",
    "##\n",
    "##"
   ]
  },
  {
   "cell_type": "markdown",
   "metadata": {},
   "source": [
    "# Part 3: Estimate membrane parameters in more complex systems"
   ]
  },
  {
   "cell_type": "markdown",
   "metadata": {},
   "source": [
    "<p style=\"text-align: center\"><img src=\"assets/Two_Stage_RO.png\" width=\"40%\">"
   ]
  },
  {
   "cell_type": "code",
   "execution_count": null,
   "metadata": {},
   "outputs": [],
   "source": [
    "from idaes.models.unit_models import Product, Feed\n",
    "from idaes.models.unit_models.mixer import (\n",
    "    Mixer,\n",
    "    MomentumMixingType,\n",
    "    MaterialBalanceType,\n",
    ")\n",
    "from idaes.core.util.initialization import propagate_state\n",
    "from pyomo.environ import TransformationFactory\n",
    "from pyomo.network import Arc"
   ]
  },
  {
   "cell_type": "markdown",
   "metadata": {},
   "source": [
    "## Begin setting up model. This time we will use feed, product, and disposal blocks"
   ]
  },
  {
   "cell_type": "code",
   "execution_count": null,
   "metadata": {},
   "outputs": [],
   "source": [
    "m = ConcreteModel()\n",
    "m.fs = FlowsheetBlock(dynamic=False)\n",
    "\n",
    "m.fs.properties = NaClParameterBlock()\n",
    "m.fs.feed = Feed(property_package=m.fs.properties)\n",
    "m.fs.product = Product(property_package=m.fs.properties)\n",
    "m.fs.disposal = Product(property_package=m.fs.properties)"
   ]
  },
  {
   "cell_type": "markdown",
   "metadata": {},
   "source": [
    "## Define the two RO Units and the Permeate Mixer"
   ]
  },
  {
   "cell_type": "code",
   "execution_count": null,
   "metadata": {},
   "outputs": [],
   "source": [
    "m.fs.RO_1 = ReverseOsmosis0D(\n",
    "        property_package=m.fs.properties,\n",
    "        has_pressure_change=True,\n",
    "        pressure_change_type=PressureChangeType.calculated,\n",
    "        mass_transfer_coefficient=MassTransferCoefficient.calculated,\n",
    "        concentration_polarization_type=ConcentrationPolarizationType.calculated,\n",
    "        has_full_reporting = True\n",
    "        )\n",
    "\n",
    "m.fs.RO_2 = ReverseOsmosis0D(\n",
    "            property_package=m.fs.properties,\n",
    "            has_pressure_change=True,\n",
    "            pressure_change_type=PressureChangeType.calculated,\n",
    "            mass_transfer_coefficient=MassTransferCoefficient.calculated,\n",
    "            concentration_polarization_type=ConcentrationPolarizationType.calculated,\n",
    "            has_full_reporting = True\n",
    "            )\n",
    "\n",
    "m.fs.permeate_mixer = Mixer(\n",
    "        property_package=m.fs.properties,\n",
    "        has_holdup=False,\n",
    "        num_inlets = 2,\n",
    "    )"
   ]
  },
  {
   "cell_type": "markdown",
   "metadata": {},
   "source": [
    "## Connect unit models"
   ]
  },
  {
   "cell_type": "code",
   "execution_count": null,
   "metadata": {},
   "outputs": [],
   "source": [
    "# Connect the feed to the 1st RO Unit\n",
    "m.fs.feed_to_RO_1 = Arc(\n",
    "        source=m.fs.feed.outlet,\n",
    "        destination=m.fs.RO_1.inlet,\n",
    "    )\n",
    "\n",
    "# Connect the 1st RO Unit Retentate to the 2nd RO Unit\n",
    "m.fs.RO_1_to_RO_2 = Arc(\n",
    "        source=m.fs.RO_1.retentate,\n",
    "        destination=m.fs.RO_2.inlet,\n",
    "    )\n",
    "\n",
    "# Connect the 1nd RO Unit Permeate to the permeate mixer\n",
    "m.fs.RO_1_to_permeate_mixer = Arc(\n",
    "        source=m.fs.RO_1.permeate,\n",
    "        destination=m.fs.permeate_mixer.inlet_1,\n",
    "    )\n",
    "\n",
    "# Connect the 2nd RO Unit Permeate to the permeate mixer\n",
    "m.fs.RO_2_to_permeate_mixer = Arc(\n",
    "        source=m.fs.RO_2.permeate,\n",
    "        destination=m.fs.permeate_mixer.inlet_2,\n",
    "    )\n",
    "\n",
    "# Connect the permeate mixer to the product\n",
    "m.fs.permeate_mixer_to_product = Arc(\n",
    "        source=m.fs.permeate_mixer.outlet,\n",
    "        destination=m.fs.product.inlet,\n",
    "    )\n",
    "\n",
    "m.fs.feed.properties[0.0].conc_mass_phase_comp\n",
    "m.fs.feed.properties[0.0].dens_mass_phase\n",
    "m.fs.feed.properties[0.0].flow_vol_phase\n",
    "m.fs.product.properties[0.0].conc_mass_phase_comp\n",
    "m.fs.product.properties[0.0].dens_mass_phase\n",
    "m.fs.product.properties[0.0].flow_vol_phase\n",
    "\n",
    "TransformationFactory(\"network.expand_arcs\").apply_to(m)"
   ]
  },
  {
   "cell_type": "markdown",
   "metadata": {},
   "source": [
    "## Define the operating conditions. Starting with the 4 DOF for the feed "
   ]
  },
  {
   "cell_type": "markdown",
   "metadata": {},
   "source": [
    "## Degrees of Freedom\n",
    "\n",
    "#### 4-DOF: Inlet feed state variables (i.e. temperature, pressure, component flowrates)\n",
    "\n",
    "#### 7-DOF: RO Unit 1\n",
    "\n",
    "#### 7-DOF: RO Unit 2\n",
    "\n"
   ]
  },
  {
   "cell_type": "code",
   "execution_count": null,
   "metadata": {},
   "outputs": [],
   "source": [
    "print(\"DOF = \", degrees_of_freedom(m))"
   ]
  },
  {
   "cell_type": "code",
   "execution_count": null,
   "metadata": {},
   "outputs": [],
   "source": [
    "m.fs.feed.properties[0].flow_mass_phase_comp['Liq', 'NaCl'].fix(0.035)  # mass flow rate of NaCl (kg/s)\n",
    "m.fs.feed.properties[0].flow_mass_phase_comp['Liq', 'H2O'].fix(0.965)   # mass flow rate of water (kg/s)\n",
    "m.fs.feed.properties[0].pressure.fix(60e5)                              # feed pressure (Pa)           \n",
    "m.fs.feed.properties[0].temperature.fix(298.15)                         # feed temperature (K)"
   ]
  },
  {
   "cell_type": "code",
   "execution_count": null,
   "metadata": {},
   "outputs": [],
   "source": [
    "m.fs.RO_1.area.fix(20)                                              # membrane area (m^2)\n",
    "m.fs.RO_1.A_comp.fix(4.2e-12)                                       # membrane water permeability (m/Pa/s)\n",
    "m.fs.RO_1.B_comp.fix(3.5e-8)                                        # membrane salt permeability (m/s)\n",
    "m.fs.RO_1.permeate.pressure[0].fix(101325)                          # permeate pressure (Pa)\n",
    "m.fs.RO_1.feed_side.channel_height.fix(1e-3)                        # channel height in membrane stage (m)\n",
    "m.fs.RO_1.feed_side.spacer_porosity.fix(0.8)                        # spacer porosity in membrane stage (-)         \n",
    "m.fs.RO_1.length.fix(1.016)                                         # membrane length (m)"
   ]
  },
  {
   "cell_type": "code",
   "execution_count": null,
   "metadata": {},
   "outputs": [],
   "source": [
    "m.fs.RO_2.area.fix(10)                                              # membrane area (m^2)\n",
    "m.fs.RO_2.A_comp.fix(4.2e-12)                                       # membrane water permeability (m/Pa/s)\n",
    "m.fs.RO_2.B_comp.fix(3.5e-8)                                        # membrane salt permeability (m/s)\n",
    "m.fs.RO_2.permeate.pressure[0].fix(101325)                          # permeate pressure (Pa)\n",
    "m.fs.RO_2.feed_side.channel_height.fix(1e-3)                        # channel height in membrane stage (m)\n",
    "m.fs.RO_2.feed_side.spacer_porosity.fix(0.8)                        # spacer porosity in membrane stage (-)         \n",
    "m.fs.RO_2.length.fix(1.016)                                         # membrane length (m)"
   ]
  },
  {
   "cell_type": "code",
   "execution_count": null,
   "metadata": {},
   "outputs": [],
   "source": [
    "print(\"DOF = \", degrees_of_freedom(m))\n",
    "assert_no_degrees_of_freedom(m)"
   ]
  },
  {
   "cell_type": "markdown",
   "metadata": {},
   "source": [
    "## Scale both units"
   ]
  },
  {
   "cell_type": "code",
   "execution_count": null,
   "metadata": {},
   "outputs": [],
   "source": [
    "set_scaling_factor(m.fs.RO_1.area, 1e-2)\n",
    "set_scaling_factor(m.fs.RO_1.feed_side.area, 1e-3)\n",
    "set_scaling_factor(m.fs.RO_1.width, 1e-2)\n",
    "set_scaling_factor(m.fs.RO_2.area, 1e-2)\n",
    "set_scaling_factor(m.fs.RO_2.feed_side.area, 1e-3)\n",
    "set_scaling_factor(m.fs.RO_2.width, 1e-2)\n",
    "\n",
    "m.fs.properties.set_default_scaling(\"flow_mass_phase_comp\", 1, index=(\"Liq\", \"H2O\"))\n",
    "m.fs.properties.set_default_scaling(\"flow_mass_phase_comp\", 1e2, index=(\"Liq\", \"NaCl\"))\n",
    "calculate_scaling_factors(m) "
   ]
  },
  {
   "cell_type": "markdown",
   "metadata": {},
   "source": [
    "### Initialize the Feed and pass the results to the 1st RO Unit"
   ]
  },
  {
   "cell_type": "code",
   "execution_count": null,
   "metadata": {},
   "outputs": [],
   "source": [
    "m.fs.feed.initialize()\n",
    "propagate_state(m.fs.feed_to_RO_1)"
   ]
  },
  {
   "cell_type": "markdown",
   "metadata": {},
   "source": [
    "### Initialize 1st RO Unit and pass the results to the 2nd RO Unit and Permeate Mixer"
   ]
  },
  {
   "cell_type": "code",
   "execution_count": null,
   "metadata": {},
   "outputs": [],
   "source": [
    "m.fs.RO_1.initialize()\n",
    "propagate_state(m.fs.RO_1_to_RO_2)\n",
    "propagate_state(m.fs.RO_1_to_permeate_mixer)"
   ]
  },
  {
   "cell_type": "markdown",
   "metadata": {},
   "source": [
    "### Initialize 2nd RO Unit and pass the results to the Permeate Mixer"
   ]
  },
  {
   "cell_type": "code",
   "execution_count": null,
   "metadata": {},
   "outputs": [],
   "source": [
    "m.fs.RO_2.initialize()\n",
    "propagate_state(m.fs.RO_2_to_permeate_mixer)"
   ]
  },
  {
   "cell_type": "markdown",
   "metadata": {},
   "source": [
    "### Initialize Permeate Mixer and pass the results to the Product"
   ]
  },
  {
   "cell_type": "code",
   "execution_count": null,
   "metadata": {},
   "outputs": [],
   "source": [
    "m.fs.permeate_mixer.initialize()\n",
    "propagate_state(m.fs.permeate_mixer_to_product)"
   ]
  },
  {
   "cell_type": "markdown",
   "metadata": {},
   "source": [
    "### Initialize Product"
   ]
  },
  {
   "cell_type": "code",
   "execution_count": null,
   "metadata": {},
   "outputs": [],
   "source": [
    "m.fs.product.initialize()"
   ]
  },
  {
   "cell_type": "markdown",
   "metadata": {},
   "source": [
    "## Solve the fully initialized system"
   ]
  },
  {
   "cell_type": "code",
   "execution_count": null,
   "metadata": {},
   "outputs": [],
   "source": [
    "solver = get_solver()\n",
    "print(\"\\n--------- SOLVING ---------\\n\")\n",
    "results = solver.solve(m)\n",
    "if check_optimal_termination(results):\n",
    "    print(\"\\n--------- OPTIMAL SOLVE!!! ---------\\n\")"
   ]
  },
  {
   "cell_type": "markdown",
   "metadata": {},
   "source": [
    "## Now let's look at how we would solve the permeability of both RO Units simultaneously"
   ]
  },
  {
   "cell_type": "code",
   "execution_count": null,
   "metadata": {},
   "outputs": [],
   "source": [
    "def solve_A(m):\n",
    "\n",
    "    # Start by freeing up the DOF by unfixing the A values for both units\n",
    "    m.fs.RO_1.A_comp.unfix()\n",
    "    m.fs.RO_2.A_comp.unfix()\n",
    "\n",
    "    # Now we can fix the permeate flowrate \n",
    "    m.fs.product.properties[0.0].flow_mass_phase_comp['Liq', 'H2O'].fix(0.2)\n",
    "    \n",
    "    # We can create a custom constraint to ensure that the A values are the same\n",
    "    m.fs.eq_water_perm_similarity = Constraint(\n",
    "        expr=m.fs.RO_1.A_comp[0,\"H2O\"]\n",
    "        == m.fs.RO_2.A_comp[0,\"H2O\"]\n",
    "    )\n",
    "    \n",
    "    solver = get_solver()\n",
    "    print(\"\\n--------- SOLVING FOR A ---------\\n\")\n",
    "    results = solver.solve(m)\n",
    "    if check_optimal_termination(results):\n",
    "        print(\"\\n--------- OPTIMAL SOLVE!!! ---------\\n\")"
   ]
  },
  {
   "cell_type": "code",
   "execution_count": null,
   "metadata": {},
   "outputs": [],
   "source": [
    "def solve_B(m):\n",
    "    # Start by freeing up the DOF by unfixing the B values for both units\n",
    "    m.fs.RO_1.B_comp.unfix()\n",
    "    m.fs.RO_2.B_comp.unfix()\n",
    "\n",
    "    # Now we can fix the salt concentration in the permeate\n",
    "    m.fs.product.properties[0.0].conc_mass_phase_comp['Liq', 'NaCl'].fix(200 * pyunits.mg/pyunits.L)\n",
    "\n",
    "    # We can create a custom constraint to ensure that the B values are the same\n",
    "    m.fs.eq_salt_perm_similarity = Constraint(\n",
    "        expr=m.fs.RO_1.B_comp[0,\"NaCl\"]\n",
    "        == m.fs.RO_2.B_comp[0,\"NaCl\"]\n",
    "    )\n",
    "\n",
    "    solver = get_solver()\n",
    "    print(\"\\n--------- SOLVING FOR B ---------\\n\")\n",
    "    results = solver.solve(m)\n",
    "    if check_optimal_termination(results):\n",
    "        print(\"\\n--------- OPTIMAL SOLVE!!! ---------\\n\")"
   ]
  },
  {
   "cell_type": "markdown",
   "metadata": {},
   "source": [
    "## Membrane parameters before fitting:"
   ]
  },
  {
   "cell_type": "code",
   "execution_count": null,
   "metadata": {},
   "outputs": [],
   "source": [
    "print(f'{\"Param\":<20s}{\"RO1\":<10s}{\"RO2\":<10s}{\"Units\":<10s}')\n",
    "print(f'{\"Water Perm\":<20s}{value(pyunits.convert(m.fs.RO_1.A_comp[0,\"H2O\"], to_units=pyunits.L * pyunits.m**-2 * pyunits.bar **-1 * pyunits.hr ** -1)):<10.3f}{value(pyunits.convert(m.fs.RO_2.A_comp[0,\"H2O\"], to_units=pyunits.L * pyunits.m**-2 * pyunits.bar **-1 * pyunits.hr ** -1)):<10.3f}{str(pyunits.get_units(pyunits.convert(m.fs.RO_1.A_comp[0,\"H2O\"], to_units=pyunits.L * pyunits.m**-2 * pyunits.bar **-1 * pyunits.hr ** -1))):<10s}')\n",
    "print(f'{\"Salt Perm\":<20s}{value(pyunits.convert(m.fs.RO_1.B_comp[0,\"NaCl\"], to_units=pyunits.L * pyunits.m**-2 * pyunits.hr ** -1)):<10.3f}{value(pyunits.convert(m.fs.RO_2.B_comp[0,\"NaCl\"], to_units=pyunits.L * pyunits.m**-2 * pyunits.hr ** -1)):<10.3f}{str(pyunits.get_units(pyunits.convert(m.fs.RO_1.B_comp[0,\"NaCl\"], to_units=pyunits.L * pyunits.m**-2 * pyunits.hr ** -1))):<10s}')\n",
    "print(f'{\"Porosity\":<20s}{value(m.fs.RO_1.feed_side.spacer_porosity):<10.3f}{value(m.fs.RO_2.feed_side.spacer_porosity):<10.3f}{str(pyunits.get_units(m.fs.RO_1.feed_side.spacer_porosity)):<10s}')"
   ]
  },
  {
   "cell_type": "markdown",
   "metadata": {},
   "source": [
    "## Membrane parameters after fitting A:"
   ]
  },
  {
   "cell_type": "code",
   "execution_count": null,
   "metadata": {},
   "outputs": [],
   "source": [
    "solve_A(m)\n",
    "print(f'{\"Param\":<20s}{\"RO1\":<10s}{\"RO2\":<10s}{\"Units\":<10s}')\n",
    "print(f'{\"Water Perm\":<20s}{value(pyunits.convert(m.fs.RO_1.A_comp[0,\"H2O\"], to_units=pyunits.L * pyunits.m**-2 * pyunits.bar **-1 * pyunits.hr ** -1)):<10.3f}{value(pyunits.convert(m.fs.RO_2.A_comp[0,\"H2O\"], to_units=pyunits.L * pyunits.m**-2 * pyunits.bar **-1 * pyunits.hr ** -1)):<10.3f}{str(pyunits.get_units(pyunits.convert(m.fs.RO_1.A_comp[0,\"H2O\"], to_units=pyunits.L * pyunits.m**-2 * pyunits.bar **-1 * pyunits.hr ** -1))):<10s}')\n",
    "print(f'{\"Salt Perm\":<20s}{value(pyunits.convert(m.fs.RO_1.B_comp[0,\"NaCl\"], to_units=pyunits.L * pyunits.m**-2 * pyunits.hr ** -1)):<10.3f}{value(pyunits.convert(m.fs.RO_2.B_comp[0,\"NaCl\"], to_units=pyunits.L * pyunits.m**-2 * pyunits.hr ** -1)):<10.3f}{str(pyunits.get_units(pyunits.convert(m.fs.RO_1.B_comp[0,\"NaCl\"], to_units=pyunits.L * pyunits.m**-2 * pyunits.hr ** -1))):<10s}')\n",
    "print(f'{\"Porosity\":<20s}{value(m.fs.RO_1.feed_side.spacer_porosity):<10.3f}{value(m.fs.RO_2.feed_side.spacer_porosity):<10.3f}{str(pyunits.get_units(m.fs.RO_1.feed_side.spacer_porosity)):<10s}')"
   ]
  },
  {
   "cell_type": "markdown",
   "metadata": {},
   "source": [
    "## Membrane parameters after fitting B:"
   ]
  },
  {
   "cell_type": "code",
   "execution_count": null,
   "metadata": {},
   "outputs": [],
   "source": [
    "solve_B(m)\n",
    "print(f'{\"Param\":<20s}{\"RO1\":<10s}{\"RO2\":<10s}{\"Units\":<10s}')\n",
    "print(f'{\"Water Perm\":<20s}{value(pyunits.convert(m.fs.RO_1.A_comp[0,\"H2O\"], to_units=pyunits.L * pyunits.m**-2 * pyunits.bar **-1 * pyunits.hr ** -1)):<10.3f}{value(pyunits.convert(m.fs.RO_2.A_comp[0,\"H2O\"], to_units=pyunits.L * pyunits.m**-2 * pyunits.bar **-1 * pyunits.hr ** -1)):<10.3f}{str(pyunits.get_units(pyunits.convert(m.fs.RO_1.A_comp[0,\"H2O\"], to_units=pyunits.L * pyunits.m**-2 * pyunits.bar **-1 * pyunits.hr ** -1))):<10s}')\n",
    "print(f'{\"Salt Perm\":<20s}{value(pyunits.convert(m.fs.RO_1.B_comp[0,\"NaCl\"], to_units=pyunits.L * pyunits.m**-2 * pyunits.hr ** -1)):<10.3f}{value(pyunits.convert(m.fs.RO_2.B_comp[0,\"NaCl\"], to_units=pyunits.L * pyunits.m**-2 * pyunits.hr ** -1)):<10.3f}{str(pyunits.get_units(pyunits.convert(m.fs.RO_1.B_comp[0,\"NaCl\"], to_units=pyunits.L * pyunits.m**-2 * pyunits.hr ** -1))):<10s}')\n",
    "print(f'{\"Porosity\":<20s}{value(m.fs.RO_1.feed_side.spacer_porosity):<10.3f}{value(m.fs.RO_2.feed_side.spacer_porosity):<10.3f}{str(pyunits.get_units(m.fs.RO_1.feed_side.spacer_porosity)):<10s}')"
   ]
  },
  {
   "cell_type": "code",
   "execution_count": null,
   "metadata": {},
   "outputs": [],
   "source": [
    "print('\\n')\n",
    "print(f'{\"Feed Flow Rate\":<20s}{value(m.fs.feed.flow_mass_phase_comp[0 ,\"Liq\", \"H2O\"]):<10.3f}{str(pyunits.get_units(m.fs.feed.flow_mass_phase_comp[0 ,\"Liq\", \"H2O\"])):<10s}')\n",
    "print(f'{\"Feed Conc\":<20s}{value(m.fs.feed.properties[0].conc_mass_phase_comp[\"Liq\", \"NaCl\"]):<10.3f}{str(pyunits.get_units(m.fs.feed.properties[0].conc_mass_phase_comp[\"Liq\", \"NaCl\"])):<10s}')\n",
    "print(f'{\"Feed Pressure\":<20s}{value(pyunits.convert(m.fs.feed.properties[0].pressure, to_units=pyunits.bar)):<10.3f}{str(pyunits.get_units(pyunits.convert(m.fs.feed.properties[0].pressure, to_units=pyunits.bar))):<10s}')\n",
    "print('\\n')\n",
    "print(f'{\"RO1 Area\":<20s}{value(m.fs.RO_1.area):<10.3f}{str(pyunits.get_units(m.fs.RO_1.area)):<10s}')\n",
    "print(f'{\"RO2 Area\":<20s}{value(m.fs.RO_2.area):<10.3f}{str(pyunits.get_units(m.fs.RO_2.area)):<10s}')\n",
    "print('\\n')\n",
    "print(f'{\"RO1 Perm Flow\":<20s}{value(value(pyunits.convert(m.fs.RO_1.mixed_permeate[0.0].flow_vol_phase[\"Liq\"], to_units=pyunits.L * pyunits.s ** -1))):<10.3f}{str(pyunits.get_units(pyunits.L * pyunits.s ** -1)):<10s}')\n",
    "print(f'{\"RO2 Perm Flow\":<20s}{value(value(pyunits.convert(m.fs.RO_2.mixed_permeate[0.0].flow_vol_phase[\"Liq\"], to_units=pyunits.L * pyunits.s ** -1))):<10.3f}{str(pyunits.get_units(pyunits.L * pyunits.s ** -1)):<10s}')\n",
    "print('\\n')\n",
    "print(f'{\"Total Perm Flow\":<20s}{value(pyunits.convert(m.fs.product.properties[0].flow_vol_phase[\"Liq\"], to_units=pyunits.L * pyunits.s ** -1)):<10.3f}{str(pyunits.get_units(pyunits.L * pyunits.s ** -1)):<10s}')\n",
    "print(f'{\"Perm Conc\":<20s}{value(pyunits.convert(m.fs.product.properties[0].conc_mass_phase_comp[\"Liq\", \"NaCl\"], to_units=pyunits.g * pyunits.L ** -1)):<10.3f}{str(pyunits.get_units(pyunits.g * pyunits.L ** -1)):<10s}')\n",
    "print('\\n')\n",
    "print(f'{\"Param\":<20s}{\"RO1\":<10s}{\"RO2\":<10s}{\"Units\":<10s}')\n",
    "print(f'{\"Water Perm\":<20s}{value(pyunits.convert(m.fs.RO_1.A_comp[0,\"H2O\"], to_units=pyunits.L * pyunits.m**-2 * pyunits.bar **-1 * pyunits.hr ** -1)):<10.3f}{value(pyunits.convert(m.fs.RO_2.A_comp[0,\"H2O\"], to_units=pyunits.L * pyunits.m**-2 * pyunits.bar **-1 * pyunits.hr ** -1)):<10.3f}{str(pyunits.get_units(pyunits.convert(m.fs.RO_1.A_comp[0,\"H2O\"], to_units=pyunits.L * pyunits.m**-2 * pyunits.bar **-1 * pyunits.hr ** -1))):<10s}')\n",
    "print(f'{\"Salt Perm\":<20s}{value(pyunits.convert(m.fs.RO_1.B_comp[0,\"NaCl\"], to_units=pyunits.L * pyunits.m**-2 * pyunits.hr ** -1)):<10.3f}{value(pyunits.convert(m.fs.RO_2.B_comp[0,\"NaCl\"], to_units=pyunits.L * pyunits.m**-2 * pyunits.hr ** -1)):<10.3f}{str(pyunits.get_units(pyunits.convert(m.fs.RO_1.B_comp[0,\"NaCl\"], to_units=pyunits.L * pyunits.m**-2 * pyunits.hr ** -1))):<10s}')\n",
    "print(f'{\"Porosity\":<20s}{value(m.fs.RO_1.feed_side.spacer_porosity):<10.3f}{value(m.fs.RO_2.feed_side.spacer_porosity):<10.3f}{str(pyunits.get_units(m.fs.RO_1.feed_side.spacer_porosity)):<10s}')\n",
    "print('\\n')"
   ]
  },
  {
   "cell_type": "markdown",
   "metadata": {},
   "source": [
    "## Extra Credit: Recreate the bench-scale RO experiment"
   ]
  },
  {
   "cell_type": "code",
   "execution_count": null,
   "metadata": {},
   "outputs": [],
   "source": [
    "m = ConcreteModel()\n",
    "m.fs = FlowsheetBlock(dynamic=False)\n",
    "m.fs.properties = NaClParameterBlock()"
   ]
  },
  {
   "cell_type": "code",
   "execution_count": null,
   "metadata": {},
   "outputs": [],
   "source": [
    "m.fs.RO = ReverseOsmosis0D(\n",
    "    property_package=m.fs.properties,\n",
    "    has_pressure_change=False,\n",
    "    mass_transfer_coefficient=MassTransferCoefficient.calculated,\n",
    "    concentration_polarization_type=ConcentrationPolarizationType.calculated,\n",
    "    has_full_reporting = True,\n",
    "    )"
   ]
  },
  {
   "cell_type": "code",
   "execution_count": null,
   "metadata": {},
   "outputs": [],
   "source": [
    "# fix the 4 inlet state variables\n",
    "m.fs.RO.inlet.flow_mass_phase_comp[0, 'Liq', 'NaCl'].fix(0.035)\n",
    "m.fs.RO.inlet.flow_mass_phase_comp[0, 'Liq', 'H2O'].fix(0.965)\n",
    "m.fs.RO.inlet.pressure[0].fix(400 * pyunits.psi)\n",
    "m.fs.RO.inlet.temperature[0].fix(298)                               # feed temperature (K)\n",
    "\n",
    "# fix 2 membrane properties\n",
    "m.fs.RO.A_comp.fix(4.2e-12)                                         # membrane water permeability coeff (m/Pa/s)\n",
    "m.fs.RO.B_comp.fix(3.5e-8)                                          # membrane salt permeability coeff (m/s)\n",
    "\n",
    "# fix 4 module specficiations\n",
    "m.fs.RO.area.setlb(1e-3)  \n",
    "m.fs.RO.area.fix(0.014)  \n",
    "m.fs.RO.width.setlb(1e-3) \n",
    "m.fs.RO.width.fix(30 * pyunits.cm)                                                # membrane stage width (m)\n",
    "\n",
    "m.fs.RO.feed_side.channel_height.fix(1E-3)                          # channel height in membrane stage (m)\n",
    "m.fs.RO.feed_side.spacer_porosity.fix(0.6)                         # spacer porosity in membrane stage (-)\n",
    "\n",
    "# 1 outlet state variable\n",
    "m.fs.RO.permeate.pressure[0].fix(101325)                            # permeate pressure (Pa)"
   ]
  },
  {
   "cell_type": "code",
   "execution_count": null,
   "metadata": {},
   "outputs": [],
   "source": [
    "# Set scaling factors for component mass flowrates.\n",
    "m.fs.properties.set_default_scaling('flow_mass_phase_comp', 1e1, index=('Liq', 'H2O'))\n",
    "m.fs.properties.set_default_scaling('flow_mass_phase_comp', 1e2, index=('Liq', 'NaCl'))\n",
    "\n",
    "# Set scaling factor for membrane area.\n",
    "set_scaling_factor(m.fs.RO.area, 1e3)\n",
    "\n",
    "# Calculate scaling factors for all other variables.\n",
    "calculate_scaling_factors(m)"
   ]
  },
  {
   "cell_type": "code",
   "execution_count": null,
   "metadata": {},
   "outputs": [],
   "source": [
    "m.fs.RO.length.setlb(0)\n",
    "m.fs.RO.recovery_mass_phase_comp[0.0,'Liq','H2O'].setlb(1e-7)\n",
    "m.fs.RO.recovery_mass_phase_comp[0.0,'Liq','NaCl'].setlb(1e-7)\n",
    "m.fs.RO.flux_mass_phase_comp.setlb(1e-9)"
   ]
  },
  {
   "cell_type": "code",
   "execution_count": null,
   "metadata": {},
   "outputs": [],
   "source": [
    "m.fs.RO.initialize()"
   ]
  },
  {
   "cell_type": "code",
   "execution_count": null,
   "metadata": {},
   "outputs": [],
   "source": [
    "# Solve the RO Unit\n",
    "solver = get_solver()\n",
    "simulation_results = solver.solve(m)\n",
    "assert_optimal_termination(simulation_results)"
   ]
  },
  {
   "cell_type": "code",
   "execution_count": null,
   "metadata": {},
   "outputs": [],
   "source": [
    "m.fs.RO.A_comp.unfix()\n",
    "m.fs.RO.mixed_permeate[0.0].flow_mass_phase_comp['Liq', 'H2O'].fix(250 * pyunits.mg / pyunits.min)"
   ]
  },
  {
   "cell_type": "code",
   "execution_count": null,
   "metadata": {},
   "outputs": [],
   "source": [
    "simulation_results = solver.solve(m)\n",
    "assert_optimal_termination(simulation_results)"
   ]
  },
  {
   "cell_type": "code",
   "execution_count": null,
   "metadata": {},
   "outputs": [],
   "source": [
    "print(print_close_to_bounds(m))"
   ]
  },
  {
   "cell_type": "code",
   "execution_count": null,
   "metadata": {},
   "outputs": [],
   "source": [
    "m.fs.RO.A_comp.display()"
   ]
  }
 ],
 "metadata": {
  "kernelspec": {
   "display_name": "watertap-dev",
   "language": "python",
   "name": "watertap-dev"
  },
  "language_info": {
   "codemirror_mode": {
    "name": "ipython",
    "version": 3
   },
   "file_extension": ".py",
   "mimetype": "text/x-python",
   "name": "python",
   "nbconvert_exporter": "python",
   "pygments_lexer": "ipython3",
   "version": "3.10.14"
  }
 },
 "nbformat": 4,
 "nbformat_minor": 2
}
